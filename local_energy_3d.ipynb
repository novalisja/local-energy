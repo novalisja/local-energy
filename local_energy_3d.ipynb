{
 "cells": [
  {
   "cell_type": "markdown",
   "metadata": {},
   "source": [
    "Extending the concept of quadrature pairs of filters to 3D images allows you to analyze volumetric data, such as medical imaging (MRI, CT scans), scientific simulations, or any 3D datasets. In 3D, quadrature filters can help detect features like edges, surfaces, and textures by computing the local energy in the volume.\n",
    "\n",
    "Below, I'll guide you through the following steps:\n",
    "\n",
    "1. **Understanding Quadrature Filters in 3D**\n",
    "2. **Generating 3D Gabor Filters (Even and Odd Symmetric)**\n",
    "3. **Convolving the Filters with the 3D Image**\n",
    "4. **Computing the Local Energy**\n",
    "5. **Identifying Feature Points**\n",
    "6. **Example Implementation in Python**\n",
    "7. **Tips for Effective Implementation**\n",
    "8. **Conclusion**\n",
    "\n",
    "---\n",
    "\n",
    "### **1. Understanding Quadrature Filters in 3D**\n",
    "\n",
    "A **quadrature pair** in 3D consists of:\n",
    "\n",
    "- **Even-Symmetric Filter (Real Part):** Sensitive to symmetric features in the volume.\n",
    "- **Odd-Symmetric Filter (Imaginary Part):** Sensitive to asymmetric features.\n",
    "\n",
    "**3D Gabor filters** are suitable for creating quadrature pairs in 3D, extending their 2D counterparts to capture volumetric features.\n",
    "\n",
    "**Mathematical Formulation:**\n",
    "\n",
    "The 3D Gabor filter \\( G(x, y, z) \\) is defined as:\n",
    "\n",
    "$$\n",
    "G(x, y, z) = \\exp\\left( -\\frac{x'^2}{2\\sigma_x^2} - \\frac{y'^2}{2\\sigma_y^2} - \\frac{z'^2}{2\\sigma_z^2} \\right) \\exp\\left( i (2\\pi f x' + \\psi) \\right)\n",
    "$$\n",
    "\n",
    "Where:\n",
    "\n",
    "- $ x', y', z' $ are the rotated coordinates.\n",
    "- $ \\sigma_x, \\sigma_y, \\sigma_z $: Standard deviations of the Gaussian envelope along each axis.\n",
    "- $ f $: Spatial frequency.\n",
    "- $ \\psi $: Phase offset (0 for even, $ \\frac{\\pi}{2} $ for odd).\n",
    "- The rotation is defined by orientation angles (azimuth $ \\theta $ and elevation $ \\phi $).\n",
    "\n",
    "### **2. Generating 3D Gabor Filters (Even and Odd Symmetric)**\n",
    "\n",
    "#### **a. Coordinate System and Rotation**\n",
    "\n",
    "First, define the 3D coordinate grid and apply rotation based on the desired orientation.\n",
    "\n"
   ]
  },
  {
   "cell_type": "code",
   "execution_count": 1,
   "metadata": {},
   "outputs": [],
   "source": [
    "import numpy as np\n",
    "\n",
    "def generate_gabor_filters_3d(frequency, theta, phi, sigma_x, sigma_y, sigma_z, filter_size, offset=0):\n",
    "    # Create a grid of (x, y, z) coordinates\n",
    "    x_max = filter_size // 2\n",
    "    y_max = filter_size // 2\n",
    "    z_max = filter_size // 2\n",
    "    x, y, z = np.meshgrid(\n",
    "        np.arange(-x_max, x_max + 1),\n",
    "        np.arange(-y_max, y_max + 1),\n",
    "        np.arange(-z_max, z_max + 1),\n",
    "        indexing='ij'\n",
    "    )\n",
    "\n",
    "    # Rotate the coordinates\n",
    "    # Rotation matrix for azimuth (theta) and elevation (phi)\n",
    "    theta = -theta  # Adjust sign for coordinate system\n",
    "    phi = -phi\n",
    "\n",
    "    # Rotation matrices\n",
    "    R_theta = np.array([\n",
    "        [np.cos(theta), -np.sin(theta), 0],\n",
    "        [np.sin(theta),  np.cos(theta), 0],\n",
    "        [0,              0,             1]\n",
    "    ])\n",
    "\n",
    "    R_phi = np.array([\n",
    "        [np.cos(phi), 0, np.sin(phi)],\n",
    "        [0,           1, 0],\n",
    "        [-np.sin(phi), 0, np.cos(phi)]\n",
    "    ])\n",
    "\n",
    "    R = np.dot(R_phi, R_theta)\n",
    "\n",
    "    coords = np.stack([x, y, z], axis=-1)\n",
    "    coords_rotated = np.tensordot(coords, R, axes=([3], [1]))\n",
    "\n",
    "    x_theta = coords_rotated[..., 0]\n",
    "    y_theta = coords_rotated[..., 1]\n",
    "    z_theta = coords_rotated[..., 2]\n",
    "\n",
    "    # Gaussian envelope\n",
    "    gaussian_envelope = np.exp(-0.5 * (\n",
    "        (x_theta**2) / sigma_x**2 +\n",
    "        (y_theta**2) / sigma_y**2 +\n",
    "        (z_theta**2) / sigma_z**2\n",
    "    ))\n",
    "\n",
    "    # Even-symmetric filter (real part)\n",
    "    even_filter = gaussian_envelope * np.cos(2 * np.pi * frequency * x_theta + offset)\n",
    "\n",
    "    # Odd-symmetric filter (imaginary part)\n",
    "    odd_filter = gaussian_envelope * np.sin(2 * np.pi * frequency * x_theta + offset)\n",
    "\n",
    "    return even_filter, odd_filter\n"
   ]
  },
  {
   "cell_type": "markdown",
   "metadata": {},
   "source": [
    "\n",
    "\n",
    "**Parameters:**\n",
    "\n",
    "- `frequency`: Spatial frequency.\n",
    "- `theta`: Azimuth angle (rotation around the z-axis).\n",
    "- `phi`: Elevation angle (rotation around the y-axis).\n",
    "- `sigma_x`, `sigma_y`, `sigma_z`: Standard deviations of the Gaussian envelope along x, y, z axes.\n",
    "- `filter_size`: Size of the filter (should be odd).\n",
    "- `offset`: Phase offset (0 for even filter, \\(\\frac{\\pi}{2}\\) for odd filter).\n",
    "\n",
    "### **3. Convolving the Filters with the 3D Image**\n",
    "\n",
    "Convolve the 3D filters with your volumetric data.\n",
    "\n",
    "\n"
   ]
  },
  {
   "cell_type": "code",
   "execution_count": 2,
   "metadata": {},
   "outputs": [],
   "source": [
    "from scipy.signal import fftconvolve\n",
    "\n",
    "def apply_quadrature_filters(image, even_filter, odd_filter):\n",
    "    # Convolve image with the even-symmetric filter\n",
    "    response_even = fftconvolve(image, even_filter, mode='same')\n",
    "\n",
    "    # Convolve image with the odd-symmetric filter\n",
    "    response_odd = fftconvolve(image, odd_filter, mode='same')\n",
    "\n",
    "    return response_even, response_odd\n"
   ]
  },
  {
   "cell_type": "markdown",
   "metadata": {},
   "source": [
    "\n",
    "**Note:** Using `fftconvolve` from `scipy.signal` is efficient for large 3D arrays.\n",
    "\n",
    "### **4. Computing the Local Energy**\n",
    "\n",
    "Compute the local energy at each voxel by combining the responses.\n",
    "\n",
    "\n"
   ]
  },
  {
   "cell_type": "code",
   "execution_count": 3,
   "metadata": {},
   "outputs": [],
   "source": [
    "def compute_local_energy(response_even, response_odd):\n",
    "    # Compute the energy (magnitude)\n",
    "    energy = np.sqrt(response_even**2 + response_odd**2)\n",
    "    return energy\n"
   ]
  },
  {
   "cell_type": "markdown",
   "metadata": {},
   "source": [
    "\n",
    "\n",
    "### **5. Identifying Feature Points**\n",
    "\n",
    "Identifying local maxima in 3D requires finding voxels that are greater than their neighbors.\n",
    "\n"
   ]
  },
  {
   "cell_type": "code",
   "execution_count": 4,
   "metadata": {},
   "outputs": [],
   "source": [
    "from scipy.ndimage import maximum_filter\n",
    "\n",
    "def identify_feature_points(energy_map, size=3, threshold_rel=0.1):\n",
    "    # Apply maximum filter to find local maxima\n",
    "    neighborhood_size = size\n",
    "    local_max = maximum_filter(energy_map, size=neighborhood_size) == energy_map\n",
    "\n",
    "    # Apply threshold\n",
    "    threshold = threshold_rel * energy_map.max()\n",
    "    detected_peaks = (energy_map >= threshold) & local_max\n",
    "\n",
    "    # Get coordinates of the peaks\n",
    "    peak_coords = np.array(np.nonzero(detected_peaks)).T\n",
    "\n",
    "    return peak_coords\n"
   ]
  },
  {
   "cell_type": "markdown",
   "metadata": {},
   "source": [
    "\n",
    "**Parameters:**\n",
    "\n",
    "- `size`: Size of the neighborhood for local maxima detection.\n",
    "- `threshold_rel`: Relative threshold for energy values (0 to 1).\n",
    "\n",
    "### **6. Example Implementation in Python**\n",
    "\n",
    "#### **a. Load or Create a Sample 3D Image**\n",
    "\n",
    "For demonstration, we'll create a synthetic 3D image with some features.\n",
    "\n"
   ]
  },
  {
   "cell_type": "code",
   "execution_count": 5,
   "metadata": {},
   "outputs": [],
   "source": [
    "import numpy as np\n",
    "import matplotlib.pyplot as plt\n",
    "\n",
    "# Create a synthetic 3D image (e.g., blobs)\n",
    "def create_synthetic_3d_image(shape=(64, 64, 64)):\n",
    "    x = np.linspace(-1, 1, shape[0])\n",
    "    y = np.linspace(-1, 1, shape[1])\n",
    "    z = np.linspace(-1, 1, shape[2])\n",
    "    x, y, z = np.meshgrid(x, y, z, indexing='ij')\n",
    "\n",
    "    # Create blobs at different locations\n",
    "    blob1 = np.exp(-((x - 0.5)**2 + (y)**2 + (z)**2) / 0.1)\n",
    "    blob2 = np.exp(-((x + 0.5)**2 + (y)**2 + (z)**2) / 0.1)\n",
    "    blob3 = np.exp(-((x)**2 + (y - 0.5)**2 + (z)**2) / 0.1)\n",
    "    image = blob1 + blob2 + blob3\n",
    "\n",
    "    # Add some noise\n",
    "    image += 0.05 * np.random.randn(*shape)\n",
    "    return image\n",
    "\n",
    "image = create_synthetic_3d_image()\n"
   ]
  },
  {
   "cell_type": "markdown",
   "metadata": {},
   "source": [
    "\n",
    "\n",
    "#### **b. Set Parameters and Generate Filters**\n",
    "\n",
    "\n"
   ]
  },
  {
   "cell_type": "code",
   "execution_count": 6,
   "metadata": {},
   "outputs": [],
   "source": [
    "# Parameters for the Gabor filters\n",
    "frequency = 0.15         # Spatial frequency\n",
    "theta = np.pi / 4        # Azimuth angle (45 degrees)\n",
    "phi = np.pi / 6          # Elevation angle (30 degrees)\n",
    "sigma_x = sigma_y = sigma_z = 5  # Standard deviations\n",
    "filter_size = 31         # Should be odd\n",
    "\n",
    "# Generate the quadrature filters\n",
    "even_filter, odd_filter = generate_gabor_filters_3d(\n",
    "    frequency, theta, phi, sigma_x, sigma_y, sigma_z, filter_size\n",
    ")\n"
   ]
  },
  {
   "cell_type": "markdown",
   "metadata": {},
   "source": [
    "\n",
    "#### **c. Apply Filters and Compute Local Energy**\n",
    "\n",
    "\n"
   ]
  },
  {
   "cell_type": "code",
   "execution_count": 7,
   "metadata": {},
   "outputs": [],
   "source": [
    "# Apply the filters to the image\n",
    "response_even, response_odd = apply_quadrature_filters(image, even_filter, odd_filter)\n",
    "\n",
    "# Compute the local energy\n",
    "energy = compute_local_energy(response_even, response_odd)\n"
   ]
  },
  {
   "cell_type": "markdown",
   "metadata": {},
   "source": [
    "\n",
    "#### **d. Identify Feature Points**\n",
    "\n",
    "\n"
   ]
  },
  {
   "cell_type": "code",
   "execution_count": 8,
   "metadata": {},
   "outputs": [
    {
     "name": "stdout",
     "output_type": "stream",
     "text": [
      "Number of feature points detected: 31\n"
     ]
    }
   ],
   "source": [
    "# Identify feature points in the energy map\n",
    "peak_coords = identify_feature_points(energy, size=5, threshold_rel=0.5)\n",
    "\n",
    "print(f\"Number of feature points detected: {len(peak_coords)}\")\n"
   ]
  },
  {
   "cell_type": "markdown",
   "metadata": {},
   "source": [
    "\n",
    "#### **e. Visualization**\n",
    "\n",
    "Visualizing 3D data is more complex. We'll plot slices and overlay detected points.\n",
    "\n",
    "```python\n"
   ]
  },
  {
   "cell_type": "code",
   "execution_count": 9,
   "metadata": {},
   "outputs": [
    {
     "data": {
      "image/png": "[encoded data removed]",
      "text/plain": [
       "<Figure size 1200x500 with 2 Axes>"
      ]
     },
     "metadata": {},
     "output_type": "display_data"
    }
   ],
   "source": [
    "# Select a slice to visualize\n",
    "slice_index = image.shape[2] // 2  # Middle slice\n",
    "\n",
    "plt.figure(figsize=(12, 5))\n",
    "\n",
    "# Original Image Slice\n",
    "plt.subplot(1, 2, 1)\n",
    "plt.imshow(image[:, :, slice_index], cmap='gray')\n",
    "plt.title('Original Image Slice')\n",
    "plt.axis('off')\n",
    "\n",
    "# Energy Map Slice\n",
    "plt.subplot(1, 2, 2)\n",
    "plt.imshow(energy[:, :, slice_index], cmap='gray')\n",
    "plt.title('Local Energy Slice')\n",
    "plt.axis('off')\n",
    "\n",
    "# Overlay detected peaks on the energy map\n",
    "slice_peaks = peak_coords[peak_coords[:, 2] == slice_index]\n",
    "plt.plot(slice_peaks[:, 1], slice_peaks[:, 0], 'ro', markersize=5)\n",
    "\n",
    "plt.show()\n"
   ]
  },
  {
   "cell_type": "markdown",
   "metadata": {},
   "source": [
    "\n",
    "\n",
    "**Note:** For a complete visualization, consider using volumetric rendering or interactive visualization libraries like `Mayavi` or `Plotly`.\n",
    "\n",
    "### **7. Tips for Effective Implementation**\n",
    "\n",
    "#### **a. Multiple Orientations and Frequencies**\n",
    "\n",
    "To capture features at different orientations and scales, create a filter bank:\n",
    "\n",
    "```python\n"
   ]
  },
  {
   "cell_type": "code",
   "execution_count": 10,
   "metadata": {},
   "outputs": [],
   "source": [
    "def generate_gabor_filter_bank(frequencies, thetas, phis, sigma_x, sigma_y, sigma_z, filter_size):\n",
    "    filters = []\n",
    "    for frequency in frequencies:\n",
    "        for theta in thetas:\n",
    "            for phi in phis:\n",
    "                even_filter, odd_filter = generate_gabor_filters_3d(\n",
    "                    frequency, theta, phi, sigma_x, sigma_y, sigma_z, filter_size\n",
    "                )\n",
    "                filters.append((even_filter, odd_filter))\n",
    "    return filters\n"
   ]
  },
  {
   "cell_type": "markdown",
   "metadata": {},
   "source": [
    "\n",
    "**Example Usage:**\n",
    "\n",
    "\n"
   ]
  },
  {
   "cell_type": "code",
   "execution_count": 11,
   "metadata": {},
   "outputs": [],
   "source": [
    "frequencies = [0.05, 0.1, 0.15]\n",
    "thetas = [0, np.pi/4, np.pi/2]\n",
    "phis = [0, np.pi/6, np.pi/3]\n",
    "filter_bank = generate_gabor_filter_bank(\n",
    "    frequencies, thetas, phis, sigma_x, sigma_y, sigma_z, filter_size\n",
    ")\n"
   ]
  },
  {
   "cell_type": "markdown",
   "metadata": {},
   "source": [
    "\n",
    "\n",
    "#### **b. Applying the Filter Bank**"
   ]
  },
  {
   "cell_type": "code",
   "execution_count": 12,
   "metadata": {},
   "outputs": [],
   "source": [
    "def apply_filter_bank(image, filter_bank):\n",
    "    energy_maps = []\n",
    "    for even_filter, odd_filter in filter_bank:\n",
    "        response_even, response_odd = apply_quadrature_filters(image, even_filter, odd_filter)\n",
    "        energy = compute_local_energy(response_even, response_odd)\n",
    "        energy_maps.append(energy)\n",
    "    return energy_maps\n"
   ]
  },
  {
   "cell_type": "markdown",
   "metadata": {},
   "source": [
    "```\n",
    "\n",
    "#### **c. Combining Energy Maps**\n",
    "\n",
    "Combine energy maps to enhance feature detection.\n",
    "\n",
    "```python\n"
   ]
  },
  {
   "cell_type": "code",
   "execution_count": 13,
   "metadata": {},
   "outputs": [],
   "source": [
    "energy_maps = apply_filter_bank(image, filter_bank)\n",
    "combined_energy = np.max(energy_maps, axis=0)\n"
   ]
  },
  {
   "cell_type": "code",
   "execution_count": null,
   "metadata": {},
   "outputs": [],
   "source": []
  },
  {
   "cell_type": "markdown",
   "metadata": {},
   "source": [
    "\n",
    "#### **d. Computational Considerations**\n",
    "\n",
    "- **Memory Usage:** 3D arrays can be large. Ensure you have sufficient memory.\n",
    "- **Performance:** Convolution in 3D is computationally intensive. Use FFT-based convolution and consider parallel processing.\n",
    "- **GPU Acceleration:** Libraries like CuPy or PyTorch can leverage GPU acceleration.\n",
    "\n",
    "#### **e. Parameter Tuning**\n",
    "\n",
    "- **Sigma Values:** Control the spatial extent of the filter. Larger values detect broader features.\n",
    "- **Frequency:** Higher frequencies detect finer details.\n",
    "- **Orientation Angles:** Multiple orientations help detect features in different directions.\n",
    "\n",
    "#### **f. Noise Consideration**\n",
    "\n",
    "- **Smoothing:** Consider smoothing the image before processing.\n",
    "- **Threshold Adjustment:** Adjust `threshold_rel` based on the noise level.\n",
    "\n",
    "### **8. Conclusion**\n",
    "\n",
    "By extending quadrature pairs of filters to 3D images, you can effectively detect and analyze volumetric features by computing the local energy and identifying its local maxima. 3D Gabor filters serve as excellent candidates for such filters due to their localization properties in both spatial and frequency domains.\n",
    "\n",
    "---\n",
    "\n",
    "**Feel free to ask if you need further clarification or assistance with adapting this approach to your specific application!**\n",
    "\n",
    "---\n",
    "\n",
    "**Additional Resources:**\n",
    "\n",
    "- **Visualization Libraries:**\n",
    "  - **Mayavi:** For 3D visualization in Python.\n",
    "  - **Plotly:** Interactive 3D plots in the browser.\n",
    "- **GPU Acceleration Libraries:**\n",
    "  - **CuPy:** NumPy-like API accelerated with NVIDIA CUDA.\n",
    "  - **PyTorch:** Deep learning framework with support for GPU computations.\n",
    "- **Optimized Convolution:**\n",
    "  - Use libraries like `scipy.signal.fftconvolve` or `scipy.ndimage` for efficient convolution.\n",
    "\n",
    "**Note:** When working with large volumetric data and filter banks, be mindful of computational efficiency and memory usage. Optimize your code and consider using more efficient libraries if necessary."
   ]
  },
  {
   "cell_type": "code",
   "execution_count": 14,
   "metadata": {},
   "outputs": [],
   "source": [
    "import os\n",
    "\n",
    "file_geo = \"C:\\\\Users\\\\novalis\\\\OneDrive\\\\datasa\\\\geoframe\\\\geoframe_raw.npy\"\n",
    "if os.path.exists(file_geo):\n",
    "\tgeo = np.load(file_geo)\n",
    "else:\n",
    "\tprint(f\"File not found: {file_geo}\")\n",
    "\n",
    "file_geo_detect=\"C:\\\\Users\\\\novalis\\\\OneDrive\\\\datasa\\\\geoframe\\\\geoframe_demo_detectII.dat\"\n",
    "if os.path.exists(file_geo_detect):\n",
    "    geo_detect = np.fromfile(file_geo_detect, dtype=np.float32)\n",
    "    geo_detect = geo_detect.reshape(geo.shape[0], geo.shape[1], geo.shape[2])\n"
   ]
  }
 ],
 "metadata": {
  "kernelspec": {
   "display_name": "torch",
   "language": "python",
   "name": "python3"
  },
  "language_info": {
   "codemirror_mode": {
    "name": "ipython",
    "version": 3
   },
   "file_extension": ".py",
   "mimetype": "text/x-python",
   "name": "python",
   "nbconvert_exporter": "python",
   "pygments_lexer": "ipython3",
   "version": "3.10.11"
  }
 },
 "nbformat": 4,
 "nbformat_minor": 2
}
